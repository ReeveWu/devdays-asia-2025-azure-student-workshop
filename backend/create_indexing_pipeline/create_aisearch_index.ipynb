{
 "cells": [
  {
   "cell_type": "code",
   "execution_count": 1,
   "id": "8ba4af14",
   "metadata": {},
   "outputs": [],
   "source": [
    "from datetime import timedelta\n",
    "from azure.core.credentials import AzureKeyCredential\n",
    "from azure.search.documents.indexes import SearchIndexerClient, SearchIndexClient\n",
    "from azure.search.documents.indexes.models import (\n",
    "    SearchIndexerDataSourceConnection,\n",
    "    SearchIndexerDataContainer,\n",
    "    SearchIndexerSkillset,\n",
    "    WebApiSkill,\n",
    "    AzureOpenAIEmbeddingSkill,\n",
    "    InputFieldMappingEntry,\n",
    "    OutputFieldMappingEntry,\n",
    "    SearchIndexer,\n",
    "    SearchIndex,\n",
    "    SearchField,\n",
    "    SearchFieldDataType,\n",
    "    VectorSearch,\n",
    "    VectorSearchProfile,\n",
    "    HnswAlgorithmConfiguration,\n",
    "    AzureOpenAIVectorizer,\n",
    "    AzureOpenAIVectorizerParameters,\n",
    "    SemanticConfiguration,\n",
    "    SemanticPrioritizedFields,\n",
    "    SemanticField,\n",
    "    SemanticSearch,\n",
    "    IndexingParameters,\n",
    "    SearchIndexerIndexProjection,\n",
    "    SearchIndexerIndexProjectionsParameters,\n",
    "    IndexProjectionMode,\n",
    "    SearchIndexerIndexProjectionSelector,\n",
    "    IndexingSchedule,\n",
    ")"
   ]
  },
  {
   "cell_type": "code",
   "execution_count": 2,
   "id": "68d0ddb2",
   "metadata": {},
   "outputs": [],
   "source": [
    "import os\n",
    "from dotenv import load_dotenv\n",
    "\n",
    "# Load environment variables from .env file\n",
    "load_dotenv()\n",
    "\n",
    "search_endpoint = os.getenv(\"SEARCH_ENDPOINT\")\n",
    "search_client_key = os.getenv(\"SEARCH_CLIENT_KEY\")\n",
    "storage_connection_string = os.getenv(\"STORAGE_CONNECTION_STRING\")\n",
    "blob_container_name = os.getenv(\"BLOB_CONTAINER_NAME\")\n",
    "azure_function_url = os.getenv(\"AZURE_FUNCTION_URL\")\n",
    "azure_openai_resource_url = os.getenv(\"AZURE_OPENAI_RESOURCE_URL\")\n",
    "azure_openai_api_key = os.getenv(\"AZURE_OPENAI_API_KEY\")\n",
    "azure_openai_embedding_model_name = os.getenv(\"AZURE_OPENAI_EMBEDDING_MODEL_NAME\")\n",
    "azure_openai_embedding_deployment_name  = os.getenv(\"AZURE_OPENAI_EMBEDDING_DEPLOYMENT_NAME\")\n",
    "azure_openai_embedding_dimensions = int(os.getenv(\"AZURE_OPENAI_EMBEDDING_DIMENSIONS\", 3072))"
   ]
  },
  {
   "cell_type": "code",
   "execution_count": 3,
   "id": "64acec1a",
   "metadata": {},
   "outputs": [],
   "source": [
    "index_name = \"ws-video-index\""
   ]
  },
  {
   "cell_type": "code",
   "execution_count": 4,
   "id": "6e019fc3",
   "metadata": {},
   "outputs": [],
   "source": [
    "index_client = SearchIndexClient(\n",
    "    endpoint=search_endpoint,\n",
    "    credential=AzureKeyCredential(search_client_key)\n",
    ")"
   ]
  },
  {
   "cell_type": "markdown",
   "id": "c78a228c",
   "metadata": {},
   "source": [
    "### Create index"
   ]
  },
  {
   "cell_type": "code",
   "execution_count": 5,
   "id": "c8a642e6",
   "metadata": {},
   "outputs": [
    {
     "name": "stdout",
     "output_type": "stream",
     "text": [
      "✅ Index with vector field created\n"
     ]
    }
   ],
   "source": [
    "fields = [\n",
    "    # SearchField(name=\"parent_id\", type=SearchFieldDataType.String, filterable=True, sortable=True),\n",
    "    SearchField(name=\"chunk_id\", type=SearchFieldDataType.String, key=True, filterable=True, analyzer_name=\"keyword\"),\n",
    "    SearchField(name=\"id\", type=SearchFieldDataType.String, searchable=True, sortable=True, filterable=True),\n",
    "    SearchField(name=\"video_name\", type=SearchFieldDataType.String, searchable=True, filterable=True),\n",
    "    SearchField(name=\"text\", type=SearchFieldDataType.String, searchable=True),\n",
    "    SearchField(name=\"start_time\", type=SearchFieldDataType.String, filterable=True, sortable=True),\n",
    "    SearchField(name=\"end_time\", type=SearchFieldDataType.String, filterable=True, sortable=True),\n",
    "    SearchField(\n",
    "        name=\"vector\",\n",
    "        type=SearchFieldDataType.Collection(SearchFieldDataType.Single),\n",
    "        searchable=True,\n",
    "        vector_search_dimensions=azure_openai_embedding_dimensions,\n",
    "        vector_search_profile_name=\"vector-profile\"\n",
    "    )\n",
    "]\n",
    "vector_search = VectorSearch(\n",
    "    profiles=[\n",
    "        VectorSearchProfile(\n",
    "            name=\"vector-profile\", \n",
    "            algorithm_configuration_name=\"hnsw-config\",\n",
    "            vectorizer_name=\"azure-openai-vectorizer\",\n",
    "        )\n",
    "    ],\n",
    "    algorithms=[\n",
    "        HnswAlgorithmConfiguration(name=\"hnsw-config\")\n",
    "    ],\n",
    "    vectorizers=[\n",
    "        AzureOpenAIVectorizer(\n",
    "            vectorizer_name=\"azure-openai-vectorizer\",\n",
    "            parameters=AzureOpenAIVectorizerParameters(\n",
    "                resource_url=azure_openai_resource_url,\n",
    "                deployment_name=azure_openai_embedding_deployment_name,\n",
    "                model_name=azure_openai_embedding_model_name,\n",
    "                api_key=azure_openai_api_key,\n",
    "            )\n",
    "        )\n",
    "    ]\n",
    ")\n",
    "\n",
    "index = SearchIndex(name=index_name, fields=fields, vector_search=vector_search)\n",
    "index_client.create_or_update_index(index)\n",
    "print(\"✅ Index with vector field created\")"
   ]
  },
  {
   "cell_type": "code",
   "execution_count": null,
   "id": "b8cbeca9",
   "metadata": {},
   "outputs": [],
   "source": []
  }
 ],
 "metadata": {
  "kernelspec": {
   "display_name": ".venv",
   "language": "python",
   "name": "python3"
  },
  "language_info": {
   "codemirror_mode": {
    "name": "ipython",
    "version": 3
   },
   "file_extension": ".py",
   "mimetype": "text/x-python",
   "name": "python",
   "nbconvert_exporter": "python",
   "pygments_lexer": "ipython3",
   "version": "3.12.7"
  }
 },
 "nbformat": 4,
 "nbformat_minor": 5
}
