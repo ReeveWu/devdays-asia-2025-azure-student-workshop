{
 "cells": [
  {
   "cell_type": "code",
   "execution_count": null,
   "id": "8ba4af14",
   "metadata": {},
   "outputs": [],
   "source": [
    "from datetime import timedelta\n",
    "from azure.core.credentials import AzureKeyCredential\n",
    "from azure.search.documents.indexes import SearchIndexerClient, SearchIndexClient\n",
    "from azure.search.documents.indexes.models import (\n",
    "    SearchIndexerDataSourceConnection,\n",
    "    SearchIndexerDataContainer,\n",
    "    SearchIndexerSkillset,\n",
    "    WebApiSkill,\n",
    "    AzureOpenAIEmbeddingSkill,\n",
    "    InputFieldMappingEntry,\n",
    "    OutputFieldMappingEntry,\n",
    "    SearchIndexer,\n",
    "    SearchIndex,\n",
    "    SearchField,\n",
    "    SearchFieldDataType,\n",
    "    VectorSearch,\n",
    "    VectorSearchProfile,\n",
    "    HnswAlgorithmConfiguration,\n",
    "    AzureOpenAIVectorizer,\n",
    "    AzureOpenAIVectorizerParameters,\n",
    "    SemanticConfiguration,\n",
    "    SemanticPrioritizedFields,\n",
    "    SemanticField,\n",
    "    SemanticSearch,\n",
    "    IndexingParameters,\n",
    "    SearchIndexerIndexProjection,\n",
    "    SearchIndexerIndexProjectionsParameters,\n",
    "    IndexProjectionMode,\n",
    "    SearchIndexerIndexProjectionSelector,\n",
    "    IndexingSchedule,\n",
    ")"
   ]
  },
  {
   "cell_type": "code",
   "execution_count": null,
   "id": "68d0ddb2",
   "metadata": {},
   "outputs": [],
   "source": [
    "import os\n",
    "from dotenv import load_dotenv\n",
    "\n",
    "# Load environment variables from .env file\n",
    "load_dotenv()\n",
    "\n",
    "search_endpoint = os.getenv(\"SEARCH_ENDPOINT\")\n",
    "search_client_key = os.getenv(\"SEARCH_CLIENT_KEY\")\n",
    "storage_connection_string = os.getenv(\"STORAGE_CONNECTION_STRING\")\n",
    "blob_container_name = os.getenv(\"BLOB_CONTAINER_NAME\")\n",
    "azure_function_url = os.getenv(\"AZURE_FUNCTION_URL\")\n",
    "azure_openai_resource_url = os.getenv(\"AZURE_OPENAI_RESOURCE_URL\")\n",
    "azure_openai_api_key = os.getenv(\"AZURE_OPENAI_API_KEY\")\n",
    "azure_openai_embedding_model_name = os.getenv(\"AZURE_OPENAI_EMBEDDING_MODEL_NAME\")\n",
    "azure_openai_embedding_deployment_name  = os.getenv(\"AZURE_OPENAI_EMBEDDING_DEPLOYMENT_NAME\")\n",
    "azure_openai_embedding_dimensions = int(os.getenv(\"AZURE_OPENAI_EMBEDDING_DIMENSIONS\", 3072))"
   ]
  },
  {
   "cell_type": "code",
   "execution_count": 12,
   "id": "64acec1a",
   "metadata": {},
   "outputs": [],
   "source": [
    "index_name = \"video-index\"\n",
    "data_source_name = \"video-blob-ds\"\n",
    "skillset_name = \"video-processing-skillset\"\n",
    "indexer_name = \"video-indexer\""
   ]
  },
  {
   "cell_type": "code",
   "execution_count": null,
   "id": "6e019fc3",
   "metadata": {},
   "outputs": [],
   "source": [
    "index_client = SearchIndexClient(\n",
    "    endpoint=search_endpoint,\n",
    "    credential=AzureKeyCredential(search_client_key)\n",
    ")\n",
    "\n",
    "indexer_client = SearchIndexerClient(\n",
    "    endpoint=search_endpoint,\n",
    "    credential=AzureKeyCredential(search_client_key)\n",
    ")"
   ]
  },
  {
   "cell_type": "markdown",
   "id": "c78a228c",
   "metadata": {},
   "source": [
    "### Create index"
   ]
  },
  {
   "cell_type": "code",
   "execution_count": 14,
   "id": "c8a642e6",
   "metadata": {},
   "outputs": [
    {
     "name": "stdout",
     "output_type": "stream",
     "text": [
      "✅ Index with vector field created\n"
     ]
    }
   ],
   "source": [
    "fields = [\n",
    "    SearchField(name=\"parent_id\", type=SearchFieldDataType.String, filterable=True, sortable=True),\n",
    "    SearchField(name=\"chunk_id\", type=SearchFieldDataType.String, key=True, filterable=True, analyzer_name=\"keyword\"),\n",
    "    SearchField(name=\"id\", type=SearchFieldDataType.String, searchable=True, sortable=True, filterable=True),\n",
    "    SearchField(name=\"video_name\", type=SearchFieldDataType.String, searchable=True, filterable=True),\n",
    "    SearchField(name=\"text\", type=SearchFieldDataType.String, searchable=True),\n",
    "    SearchField(name=\"start_time\", type=SearchFieldDataType.String, filterable=True, sortable=True),\n",
    "    SearchField(name=\"end_time\", type=SearchFieldDataType.String, filterable=True, sortable=True),\n",
    "    SearchField(\n",
    "        name=\"vector\",\n",
    "        type=SearchFieldDataType.Collection(SearchFieldDataType.Single),\n",
    "        searchable=True,\n",
    "        vector_search_dimensions=azure_openai_embedding_dimensions,\n",
    "        vector_search_profile_name=\"vector-profile\"\n",
    "    )\n",
    "]\n",
    "vector_search = VectorSearch(\n",
    "    profiles=[\n",
    "        VectorSearchProfile(name=\"vector-profile\", algorithm_configuration_name=\"hnsw-config\")\n",
    "    ],\n",
    "    algorithms=[\n",
    "        HnswAlgorithmConfiguration(name=\"hnsw-config\")\n",
    "    ],\n",
    "    vectorizers=[\n",
    "        AzureOpenAIVectorizer(\n",
    "            vectorizer_name=\"azure-openai-vectorizer\",\n",
    "            parameters=AzureOpenAIVectorizerParameters(\n",
    "                resource_url=azure_openai_resource_url,\n",
    "                deployment_name=azure_openai_embedding_deployment_name,\n",
    "                model_name=azure_openai_embedding_model_name,\n",
    "                api_key=azure_openai_api_key,\n",
    "            )\n",
    "        )\n",
    "    ]\n",
    ")\n",
    "\n",
    "semantic_config = SemanticConfiguration(  \n",
    "    name=\"semantic-config\",  \n",
    "    prioritized_fields=SemanticPrioritizedFields(  \n",
    "        content_fields=[SemanticField(field_name=\"text\")]  \n",
    "    )\n",
    ")\n",
    "\n",
    "semantic_search = SemanticSearch(\n",
    "    default_configuration_name=\"semantic-config\",\n",
    "    configurations=[semantic_config]\n",
    ")\n",
    "\n",
    "index = SearchIndex(name=index_name, fields=fields, vector_search=vector_search, semantic_search=semantic_search)\n",
    "index_client.create_or_update_index(index)\n",
    "print(\"✅ Index with vector field created\")"
   ]
  },
  {
   "cell_type": "markdown",
   "id": "3a481dc2",
   "metadata": {},
   "source": [
    "### Create data source"
   ]
  },
  {
   "cell_type": "code",
   "execution_count": 15,
   "id": "4d7b0d75",
   "metadata": {},
   "outputs": [
    {
     "name": "stdout",
     "output_type": "stream",
     "text": [
      "✅ Data source created\n"
     ]
    }
   ],
   "source": [
    "blob_container = SearchIndexerDataContainer(name=blob_container_name)\n",
    "\n",
    "data_source = SearchIndexerDataSourceConnection(\n",
    "    name=data_source_name,\n",
    "    type=\"azureblob\",\n",
    "    connection_string=storage_connection_string,\n",
    "    container=blob_container,\n",
    ")\n",
    "indexer_client.create_or_update_data_source_connection(data_source)\n",
    "print(\"✅ Data source created\")"
   ]
  },
  {
   "cell_type": "markdown",
   "id": "80fa2f23",
   "metadata": {},
   "source": [
    "### Create skillset"
   ]
  },
  {
   "cell_type": "code",
   "execution_count": 16,
   "id": "514a319e",
   "metadata": {},
   "outputs": [
    {
     "name": "stdout",
     "output_type": "stream",
     "text": [
      "✅ Skillset created\n"
     ]
    }
   ],
   "source": [
    "web_skill = WebApiSkill(\n",
    "    name=\"video-processing-skill\",\n",
    "    description=\"Extract video metadata via Azure Function\",\n",
    "    context=\"/document\",\n",
    "    uri=azure_function_url,\n",
    "    batch_size=1,\n",
    "    degree_of_parallelism=1,\n",
    "    timeout=timedelta(seconds=230),\n",
    "    inputs=[\n",
    "        InputFieldMappingEntry(name=\"name\", source=\"/document/metadata_storage_name\"),\n",
    "        InputFieldMappingEntry(name=\"blob_url\", source=\"/document/metadata_storage_path\"),\n",
    "        InputFieldMappingEntry(name=\"sas_token\", source=\"/document/metadata_storage_sas_token\"),\n",
    "        InputFieldMappingEntry(name=\"content_type\", source=\"/document/metadata_storage_content_type\"),\n",
    "    ],\n",
    "    outputs=[\n",
    "        OutputFieldMappingEntry(name=\"segments\", target_name=\"segments\"),\n",
    "    ]\n",
    ")\n",
    "\n",
    "embeddings_skill = AzureOpenAIEmbeddingSkill(\n",
    "    name=\"text-embedding-skill\",\n",
    "    description=\"Generate embeddings for text via Azure OpenAI\",\n",
    "    context=\"/document/segments/*\",\n",
    "    inputs=[\n",
    "        InputFieldMappingEntry(name=\"text\", source=\"/document/segments/*/text\")\n",
    "    ],\n",
    "    outputs=[\n",
    "        OutputFieldMappingEntry(name=\"embedding\", target_name=\"vector\")\n",
    "    ],\n",
    "    resource_url=azure_openai_resource_url,\n",
    "    api_key=azure_openai_api_key,\n",
    "    deployment_name=azure_openai_embedding_deployment_name,\n",
    "    model_name=azure_openai_embedding_model_name,\n",
    "    dimensions=azure_openai_embedding_dimensions,\n",
    ")\n",
    "\n",
    "index_projection = SearchIndexerIndexProjection(\n",
    "    selectors=[\n",
    "        SearchIndexerIndexProjectionSelector(\n",
    "            target_index_name=\"video-index\",\n",
    "            parent_key_field_name=\"parent_id\",\n",
    "            source_context=\"/document/segments/*\",\n",
    "            mappings=[\n",
    "                InputFieldMappingEntry(name=\"start_time\", source=\"/document/segments/*/start_time\"),\n",
    "                InputFieldMappingEntry(name=\"id\", source=\"/document/segments/*/id\"),\n",
    "                InputFieldMappingEntry(name=\"end_time\", source=\"/document/segments/*/end_time\"),\n",
    "                InputFieldMappingEntry(name=\"text\", source=\"/document/segments/*/text\"),\n",
    "                InputFieldMappingEntry(name=\"video_name\", source=\"/document/segments/*/video_name\"),\n",
    "                InputFieldMappingEntry(name=\"vector\", source=\"/document/segments/*/vector\"),\n",
    "            ]\n",
    "        )\n",
    "    ],\n",
    "    parameters=SearchIndexerIndexProjectionsParameters(  \n",
    "        projection_mode=IndexProjectionMode.SKIP_INDEXING_PARENT_DOCUMENTS  \n",
    "    ),\n",
    ")\n",
    "\n",
    "skillset = SearchIndexerSkillset(\n",
    "    name=skillset_name,\n",
    "    description=\"Enrich video blobs and generate text embeddings\",\n",
    "    skills=[web_skill, embeddings_skill],\n",
    "    index_projection=index_projection,\n",
    ")\n",
    "\n",
    "indexer_client.create_or_update_skillset(skillset)\n",
    "print(\"✅ Skillset created\")"
   ]
  },
  {
   "cell_type": "markdown",
   "id": "83ab0ba8",
   "metadata": {},
   "source": [
    "### Create indexer"
   ]
  },
  {
   "cell_type": "code",
   "execution_count": 17,
   "id": "3a949be7",
   "metadata": {},
   "outputs": [
    {
     "name": "stdout",
     "output_type": "stream",
     "text": [
      "✅ Indexer created and started\n"
     ]
    }
   ],
   "source": [
    "indexing_params = IndexingParameters(\n",
    "    configuration={\n",
    "        \"indexed_file_name_extensions\": \".mp4,.mov,.mp3,.wav\",\n",
    "    },\n",
    ")           \n",
    "\n",
    "indexer = SearchIndexer(\n",
    "    name=indexer_name,\n",
    "    data_source_name=data_source_name,\n",
    "    target_index_name=index_name,\n",
    "    skillset_name=skillset_name,\n",
    "    parameters=indexing_params,\n",
    "    schedule=IndexingSchedule(\n",
    "        interval=timedelta(minutes=5),\n",
    "    )\n",
    ")\n",
    "indexer_client.create_or_update_indexer(indexer)\n",
    "print(\"✅ Indexer created and started\")"
   ]
  },
  {
   "cell_type": "code",
   "execution_count": null,
   "id": "13d1fa35",
   "metadata": {},
   "outputs": [],
   "source": []
  }
 ],
 "metadata": {
  "kernelspec": {
   "display_name": ".venv",
   "language": "python",
   "name": "python3"
  },
  "language_info": {
   "codemirror_mode": {
    "name": "ipython",
    "version": 3
   },
   "file_extension": ".py",
   "mimetype": "text/x-python",
   "name": "python",
   "nbconvert_exporter": "python",
   "pygments_lexer": "ipython3",
   "version": "3.13.5"
  }
 },
 "nbformat": 4,
 "nbformat_minor": 5
}
